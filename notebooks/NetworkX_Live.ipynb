{
 "cells": [
  {
   "cell_type": "markdown",
   "metadata": {
    "colab_type": "text",
    "id": "view-in-github"
   },
   "source": [
    "<a href=\"https://colab.research.google.com/github/RaczeQ/networkx-library-workshop/blob/master/notebooks/NetworkX_Live.ipynb\" target=\"_parent\"><img src=\"https://colab.research.google.com/assets/colab-badge.svg\" alt=\"Open In Colab\"/></a>"
   ]
  },
  {
   "cell_type": "markdown",
   "metadata": {
    "colab_type": "text",
    "id": "wHZjdT3111nD"
   },
   "source": [
    "# Load files"
   ]
  },
  {
   "cell_type": "code",
   "execution_count": null,
   "metadata": {
    "colab": {},
    "colab_type": "code",
    "id": "A_MVx1d-4ouw"
   },
   "outputs": [],
   "source": [
    "%matplotlib inline\n",
    "\n",
    "import matplotlib\n",
    "import numpy as np\n",
    "import matplotlib.pyplot as plt\n",
    "import collections\n",
    "from operator import itemgetter\n",
    "\n",
    "import networkx as nx"
   ]
  },
  {
   "cell_type": "markdown",
   "metadata": {
    "colab_type": "text",
    "id": "R-VHxxxZYr7y"
   },
   "source": [
    "## NetworkX Methods\n",
    "\n",
    "### Loading network\n",
    "\n",
    "Adjacency list - `nx.read_adjlist(path, comments='#')`\n",
    "\n",
    "Edge list - `nx.read_edgelist(path, comments='#')`\n",
    "\n",
    "### Generating network\n",
    "\n",
    "Complete - `nx.complete_graph(nodes)`\n",
    "\n",
    "Balanced tree - `nx.balanced_tree(branching_factor, height)`\n",
    "\n",
    "Erdős-Rényi  - `nx.erdos_renyi_graph(nodes, probability, seed=None, directed=False)`\n",
    "\n",
    "Barabási–Albert - `barabasi_albert_graph(nodes, edges_from_node, seed=None)`\n",
    "\n",
    "### Measures\n",
    "\n",
    "Betweenness - `nx.betweenness_centrality(graph)`\n",
    "\n",
    "Closeness - `nx.closeness_centrality(graph)`\n",
    "\n",
    "Clustering coefficient - `nx.clustering(graph)`\n",
    "\n",
    "Degree - `nx.degree(graph)`\n",
    "\n",
    "Density - `nx.betweenness_centrality(graph)`\n",
    "\n",
    "Diameter - `nx.diameter(graph)` \n",
    "(Caution: unconnected graph raises exception)\n",
    "\n",
    "Number of connected components - `nx.number_connected_components(graph)`\n",
    "\n",
    "Pagerank - `nx.pagerank(graph)`\n",
    "\n",
    "Shortest path length - `nx.average_shortest_path_length(graph)`\n",
    "\n",
    "### Manipulating network\n",
    "\n",
    "Add node - `graph.add_node(node)`\n",
    "\n",
    "Add nodes - `graph.add_nodes_from([node1, node2, ...])` / `graph.add_nodes_from(range(1,100))`\n",
    "\n",
    "Add edge - `graph.add_edge(node1, node2)`\n",
    "\n",
    "Attributes:\n",
    "\n",
    "```\n",
    ">>> graph.add_node(node, attribute_name=value, time=5, weather=\"sunny\")\n",
    ">>> graph.nodes[node][attibute_name]\n",
    "value\n",
    ">>> del graph.nodes[node][attibute_name]\n",
    ">>> graph.nodes[node]\n",
    "{ \"time\": 5, \"weather\": \"sunny\"}\n",
    "```\n",
    "\n"
   ]
  },
  {
   "cell_type": "code",
   "execution_count": null,
   "metadata": {
    "colab": {
     "base_uri": "https://localhost:8080/",
     "height": 107.0
    },
    "colab_type": "code",
    "id": "KxK0eksCfsDP",
    "outputId": "5caaa2ee-d632-45bc-96d3-5e0b4080ffcd"
   },
   "outputs": [],
   "source": [
    "barabasi = nx.barabasi_albert_graph(100, 5)\n",
    "print(nx.info(barabasi))"
   ]
  },
  {
   "cell_type": "code",
   "execution_count": null,
   "metadata": {
    "colab": {
     "base_uri": "https://localhost:8080/",
     "height": 372.0
    },
    "colab_type": "code",
    "id": "xePHMWPYf1uE",
    "outputId": "d3b40643-20e0-42d3-c63b-24ecb6dca2f9"
   },
   "outputs": [],
   "source": [
    "nx.draw(barabasi)"
   ]
  },
  {
   "cell_type": "code",
   "execution_count": null,
   "metadata": {
    "colab": {
     "base_uri": "https://localhost:8080/",
     "height": 55.0
    },
    "colab_type": "code",
    "id": "IVaFvzDDgSlp",
    "outputId": "dd7edc85-d994-4876-eb14-2262aab3bc07"
   },
   "outputs": [],
   "source": [
    "degree = nx.degree(barabasi)\n",
    "print(degree)"
   ]
  },
  {
   "cell_type": "code",
   "execution_count": null,
   "metadata": {
    "colab": {
     "base_uri": "https://localhost:8080/",
     "height": 35.0
    },
    "colab_type": "code",
    "id": "uAbyjXkkgAKR",
    "outputId": "9ce98024-1950-4b7f-83a8-041bd800500c"
   },
   "outputs": [],
   "source": [
    "average_degree = np.mean([d for n,d in degree])\n",
    "print(average_degree)"
   ]
  },
  {
   "cell_type": "code",
   "execution_count": null,
   "metadata": {
    "colab": {
     "base_uri": "https://localhost:8080/",
     "height": 372.0
    },
    "colab_type": "code",
    "id": "UNIKKMxpip5P",
    "outputId": "1e1255cd-e8f8-4ace-ffce-acde3e9dc9e5"
   },
   "outputs": [],
   "source": [
    "(largest_hub, d) = sorted(degree, key=itemgetter(1))[-1]\n",
    "# Create ego graph of main hub\n",
    "hub_ego = nx.ego_graph(barabasi, largest_hub)\n",
    "# Draw graph\n",
    "pos = nx.spring_layout(hub_ego)\n",
    "nx.draw(hub_ego, pos, node_color='b', node_size=50, with_labels=False)\n",
    "# Draw ego as large and red\n",
    "nx.draw_networkx_nodes(hub_ego, pos, nodelist=[largest_hub], node_size=300, node_color='r')\n",
    "plt.show()"
   ]
  },
  {
   "cell_type": "code",
   "execution_count": null,
   "metadata": {
    "colab": {
     "base_uri": "https://localhost:8080/",
     "height": 283.0
    },
    "colab_type": "code",
    "id": "L7zWeAsriCgP",
    "outputId": "6754060c-6cdd-4d9c-9534-8ee95aa4b5c8",
    "scrolled": true
   },
   "outputs": [],
   "source": [
    "degree_sequence = sorted([d for n, d in degree], reverse=True)\n",
    "degreeCount = collections.Counter(degree_sequence)\n",
    "deg, cnt = zip(*degreeCount.items())\n",
    "\n",
    "plt.bar(deg, cnt)"
   ]
  },
  {
   "cell_type": "code",
   "execution_count": null,
   "metadata": {
    "colab": {},
    "colab_type": "code",
    "id": "RzHEax4T5yJF"
   },
   "outputs": [],
   "source": [
    "jazz_graph = nx.read_adjlist('../networks/jazz', comments='%')"
   ]
  },
  {
   "cell_type": "code",
   "execution_count": null,
   "metadata": {
    "colab": {
     "base_uri": "https://localhost:8080/",
     "height": 107.0
    },
    "colab_type": "code",
    "id": "TQfxL5j94u34",
    "outputId": "60a1b90b-7a09-4c9a-eaec-af25ad14019d"
   },
   "outputs": [],
   "source": [
    "print(nx.info(jazz_graph))"
   ]
  },
  {
   "cell_type": "code",
   "execution_count": null,
   "metadata": {
    "colab": {
     "base_uri": "https://localhost:8080/",
     "height": 372.0
    },
    "colab_type": "code",
    "id": "Ki1Rqi5sddFO",
    "outputId": "4d149077-b5eb-42de-86a6-379922f1b535"
   },
   "outputs": [],
   "source": [
    "nx.draw(jazz_graph)"
   ]
  },
  {
   "cell_type": "code",
   "execution_count": null,
   "metadata": {
    "colab": {
     "base_uri": "https://localhost:8080/",
     "height": 372.0
    },
    "colab_type": "code",
    "id": "P7D_5YLUjurO",
    "outputId": "a3a70dac-a020-49f7-eb03-beedbef1df48"
   },
   "outputs": [],
   "source": [
    "plt.figure(figsize=(50, 50))\n",
    "nx.draw_circular(jazz_graph)"
   ]
  },
  {
   "cell_type": "code",
   "execution_count": null,
   "metadata": {
    "colab": {
     "base_uri": "https://localhost:8080/",
     "height": 372.0
    },
    "colab_type": "code",
    "id": "fDZbJbyqj2vQ",
    "outputId": "6d042917-ee4a-473f-d65a-d6592ac92d4e"
   },
   "outputs": [],
   "source": [
    "plt.figure(figsize=(30, 30))\n",
    "nx.draw_kamada_kawai(jazz_graph)"
   ]
  },
  {
   "cell_type": "code",
   "execution_count": null,
   "metadata": {
    "colab": {
     "base_uri": "https://localhost:8080/",
     "height": 372.0
    },
    "colab_type": "code",
    "id": "fxc24RcrkDDq",
    "outputId": "d6c4cf68-377e-43bb-cb38-0c4860868549"
   },
   "outputs": [],
   "source": [
    "plt.figure(figsize=(30, 30))\n",
    "nx.draw_random(jazz_graph)"
   ]
  },
  {
   "cell_type": "code",
   "execution_count": null,
   "metadata": {
    "colab": {
     "base_uri": "https://localhost:8080/",
     "height": 55.0
    },
    "colab_type": "code",
    "id": "4mu-7vRihSsS",
    "outputId": "b42af7d3-e6fc-4b4c-c5df-10833d682777"
   },
   "outputs": [],
   "source": [
    "degree = nx.degree(jazz_graph)\n",
    "print(degree)"
   ]
  },
  {
   "cell_type": "code",
   "execution_count": null,
   "metadata": {
    "colab": {
     "base_uri": "https://localhost:8080/",
     "height": 35.0
    },
    "colab_type": "code",
    "id": "QyYioA2RhVjf",
    "outputId": "1f217565-6af1-49bc-df12-095a38d8d5d3"
   },
   "outputs": [],
   "source": [
    "average_degree = np.mean([d for n,d in degree])\n",
    "print(average_degree)"
   ]
  },
  {
   "cell_type": "code",
   "execution_count": null,
   "metadata": {
    "colab": {
     "base_uri": "https://localhost:8080/",
     "height": 283.0
    },
    "colab_type": "code",
    "id": "4exMh6qGhWyM",
    "outputId": "0a86a641-acde-4f96-ad5d-c2286c39230f"
   },
   "outputs": [],
   "source": [
    "degree_sequence = sorted([d for n, d in degree], reverse=True)\n",
    "degreeCount = collections.Counter(degree_sequence)\n",
    "deg, cnt = zip(*degreeCount.items())\n",
    "\n",
    "plt.figure(figsize=(8, 8))\n",
    "plt.bar(deg, cnt)\n",
    "plt.draw()"
   ]
  },
  {
   "cell_type": "code",
   "execution_count": null,
   "metadata": {
    "colab": {
     "base_uri": "https://localhost:8080/",
     "height": 55.0
    },
    "colab_type": "code",
    "id": "jFIsCUfFgoY-",
    "outputId": "9daf96b0-4f76-408f-cb41-e157fea5380f"
   },
   "outputs": [],
   "source": [
    "betweenness = nx.betweenness_centrality(jazz_graph)\n",
    "betweenness"
   ]
  },
  {
   "cell_type": "code",
   "execution_count": null,
   "metadata": {
    "colab": {
     "base_uri": "https://localhost:8080/",
     "height": 35.0
    },
    "colab_type": "code",
    "id": "b1JkkaLAg712",
    "outputId": "30d7e3e0-6ec8-41e4-eacf-cca058fced40"
   },
   "outputs": [],
   "source": [
    "average_betweenness = np.mean([b for d,b in betweenness.items()])\n",
    "print(average_betweenness)"
   ]
  },
  {
   "cell_type": "code",
   "execution_count": null,
   "metadata": {
    "colab": {
     "base_uri": "https://localhost:8080/",
     "height": 73.0
    },
    "colab_type": "code",
    "id": "vmBb1X3fkMdX",
    "outputId": "f7e9b3c4-10d5-4f57-eef0-4cac9e5b7c44"
   },
   "outputs": [],
   "source": [
    "pagerank = nx.pagerank(jazz_graph)\n",
    "print(pagerank)\n",
    "print('Max pagerank:', sorted([p for n, p in pagerank.items()], reverse=True)[0])"
   ]
  },
  {
   "cell_type": "markdown",
   "metadata": {},
   "source": [
    "## Visualization"
   ]
  },
  {
   "cell_type": "code",
   "execution_count": null,
   "metadata": {},
   "outputs": [],
   "source": [
    "karate_club = nx.karate_club_graph()\n",
    "print(nx.info(karate_club))"
   ]
  },
  {
   "cell_type": "markdown",
   "metadata": {},
   "source": [
    "### Matplotlib"
   ]
  },
  {
   "cell_type": "code",
   "execution_count": null,
   "metadata": {},
   "outputs": [],
   "source": [
    "nx.draw(karate_club)"
   ]
  },
  {
   "cell_type": "code",
   "execution_count": null,
   "metadata": {},
   "outputs": [],
   "source": [
    "nx.draw(karate_club, pos=nx.circular_layout(karate_club))"
   ]
  },
  {
   "cell_type": "code",
   "execution_count": null,
   "metadata": {},
   "outputs": [],
   "source": [
    "pos = nx.circular_layout(karate_club, karate_club.nodes())\n",
    "nx.draw(karate_club, pos, with_labels=True)"
   ]
  },
  {
   "cell_type": "code",
   "execution_count": null,
   "metadata": {},
   "outputs": [],
   "source": [
    "pos = nx.circular_layout(karate_club, list(map(lambda node: 2*node if node % 3 == 0 else node,[node for node in karate_club.nodes()])))\n",
    "nx.draw(karate_club, pos, with_labels=True)"
   ]
  },
  {
   "cell_type": "code",
   "execution_count": null,
   "metadata": {},
   "outputs": [],
   "source": [
    "pos = nx.spring_layout(karate_club, iterations=200)\n",
    "nx.draw(karate_club, node_color=range(34), node_size=200, cmap=plt.cm.Greens, pos=pos)"
   ]
  },
  {
   "cell_type": "code",
   "execution_count": null,
   "metadata": {},
   "outputs": [],
   "source": [
    "first_kc_group = list(karate_club.nodes())[:15]\n",
    "color_list = [\"red\" for _ in range(15)] + [\"blue\" for _ in range(len(karate_club) - 15)]\n",
    "\n",
    "pos = nx.bipartite_layout(karate_club, first_kc_group)\n",
    "plt.figure(figsize=(30, 30))\n",
    "nx.draw(karate_club, node_color=color_list, node_size=200, pos=pos)"
   ]
  },
  {
   "cell_type": "code",
   "execution_count": null,
   "metadata": {},
   "outputs": [],
   "source": [
    "nx.draw_random(karate_club, node_color=\"blue\", node_size=400, cmap=plt.cm.Greens)"
   ]
  },
  {
   "cell_type": "markdown",
   "metadata": {},
   "source": [
    "### D3.js"
   ]
  },
  {
   "cell_type": "code",
   "execution_count": null,
   "metadata": {},
   "outputs": [],
   "source": [
    "from IPython.core.display import display, HTML, Javascript\n",
    "from string import Template\n",
    "import json\n",
    "\n",
    "json_network = nx.node_link_data(karate_club)\n",
    "print(json_network)"
   ]
  },
  {
   "cell_type": "code",
   "execution_count": null,
   "metadata": {},
   "outputs": [],
   "source": [
    "css_text = '''\n",
    ".links line {\n",
    "    stroke: #343434;\n",
    "    stroke-opacity: 0.6;\n",
    "}\n",
    "\n",
    ".nodes circle {\n",
    "    stroke: #ff7058;\n",
    "    stroke-width: 2px;\n",
    "    fill: rgb(132, 219, 255);\n",
    "}\n",
    "\n",
    "'''"
   ]
  },
  {
   "cell_type": "code",
   "execution_count": null,
   "metadata": {},
   "outputs": [],
   "source": [
    "js_text_template = Template('''\n",
    "\n",
    "var data = '$python_data' ;\n",
    "var id = '$id';\n",
    "\n",
    "console.log(data);\n",
    "\n",
    "chart = {\n",
    "  const links = data.links.map(d => Object.create(d));\n",
    "  const nodes = data.nodes.map(d => Object.create(d));\n",
    "\n",
    "  const simulation = d3.forceSimulation(nodes)\n",
    "      .force(\"link\", d3.forceLink(links).id(d => d.id))\n",
    "      .force(\"charge\", d3.forceManyBody())\n",
    "      .force(\"x\", d3.forceX())\n",
    "      .force(\"y\", d3.forceY());\n",
    "\n",
    "  const svg = d3.select(DOM.svg(width, height))\n",
    "      .attr(\"viewBox\", [-width / 2, -height / 2, width, height]);\n",
    "\n",
    "  const link = svg.append(\"g\")\n",
    "      .attr(\"stroke\", \"#999\")\n",
    "      .attr(\"stroke-opacity\", 0.6)\n",
    "    .selectAll(\"line\")\n",
    "    .data(links)\n",
    "    .join(\"line\")\n",
    "      .attr(\"stroke-width\", d => Math.sqrt(d.value));\n",
    "\n",
    "  const node = svg.append(\"g\")\n",
    "      .attr(\"stroke\", \"#fff\")\n",
    "      .attr(\"stroke-width\", 1.5)\n",
    "    .selectAll(\"circle\")\n",
    "    .data(nodes)\n",
    "    .join(\"circle\")\n",
    "      .attr(\"r\", 5)\n",
    "      .attr(\"fill\", color)\n",
    "      .call(drag(simulation));\n",
    "\n",
    "  node.append(\"title\")\n",
    "      .text(d => d.id);\n",
    "\n",
    "  simulation.on(\"tick\", () => {\n",
    "    link\n",
    "        .attr(\"x1\", d => d.source.x)\n",
    "        .attr(\"y1\", d => d.source.y)\n",
    "        .attr(\"x2\", d => d.target.x)\n",
    "        .attr(\"y2\", d => d.target.y);\n",
    "\n",
    "    node\n",
    "        .attr(\"cx\", d => d.x)\n",
    "        .attr(\"cy\", d => d.y);\n",
    "  });\n",
    "\n",
    "  invalidation.then(() => simulation.stop());\n",
    "\n",
    "  return svg.node();\n",
    "}\n",
    "\n",
    "''')"
   ]
  },
  {
   "cell_type": "code",
   "execution_count": null,
   "metadata": {},
   "outputs": [],
   "source": [
    "js_template2 = Template('''\n",
    "var drawKarateClub = function () {\n",
    "    var data = '$python_data' ;\n",
    "    var id = '$id';\n",
    "    var svg = d3.select(\"svg\"),\n",
    "        width = +svg.attr(\"width\"),\n",
    "        height = +svg.attr(\"height\");\n",
    "\n",
    "    var color = d3.scaleOrdinal(d3.schemeCategory10);\n",
    "\n",
    "    var simulation = d3.forceSimulation()\n",
    "        .force(\"link\", d3.forceLink().id(function (d) {\n",
    "            return d.id;\n",
    "        }))\n",
    "        .force(\"charge\", d3.forceManyBody())\n",
    "        .force(\"center\", d3.forceCenter(width / 2, height / 2));\n",
    "\n",
    "    var graph = JSON.parse(data);\n",
    "\n",
    "    var link = svg.append(\"g\")\n",
    "        .attr(\"class\", \"links\")\n",
    "        .selectAll(\"line\")\n",
    "        .data(graph.links)\n",
    "        .enter().append(\"line\")\n",
    "        .attr(\"stroke-width\", function (d) {\n",
    "            return Math.sqrt(d.value);\n",
    "        });\n",
    "\n",
    "    var node = svg.append(\"g\")\n",
    "        .attr(\"class\", \"nodes\")\n",
    "        .selectAll(\"circle\")\n",
    "        .data(graph.nodes)\n",
    "        .enter().append(\"circle\")\n",
    "        .attr(\"r\", 7)\n",
    "        .call(d3.drag()\n",
    "            .on(\"start\", dragstarted)\n",
    "            .on(\"drag\", dragged)\n",
    "            .on(\"end\", dragended));\n",
    "    node.append(\"title\")\n",
    "        .text(function (d) {\n",
    "            return d.id;\n",
    "        });\n",
    "\n",
    "    node.attr('id', function (d) {\n",
    "        return 'id' + d.id;\n",
    "    });\n",
    "\n",
    "    simulation\n",
    "        .nodes(graph.nodes)\n",
    "        .on(\"tick\", ticked);\n",
    "\n",
    "    simulation.force(\"link\")\n",
    "        .links(graph.links);\n",
    "\n",
    "    function ticked() {\n",
    "        link\n",
    "        .attr(\"x1\", function (d) {\n",
    "                return d.source.x;\n",
    "            })\n",
    "            .attr(\"y1\", function (d) {\n",
    "                return d.source.y;\n",
    "            })\n",
    "            .attr(\"x2\", function (d) {\n",
    "                return d.target.x;\n",
    "            })\n",
    "            .attr(\"y2\", function (d) {\n",
    "                return d.target.y;\n",
    "            });\n",
    "\n",
    "        node\n",
    "            .attr(\"cx\", function (d) {\n",
    "                return d.x;\n",
    "            })\n",
    "            .attr(\"cy\", function (d) {\n",
    "                return d.y;\n",
    "            });\n",
    "    }\n",
    "\n",
    "    function dragstarted(d) {\n",
    "        if (!d3.event.active) simulation.alphaTarget(0.3).restart();\n",
    "        d.fx = d.x;\n",
    "        d.fy = d.y;\n",
    "    }\n",
    "\n",
    "    function dragged(d) {\n",
    "        d.fx = d3.event.x;\n",
    "        d.fy = d3.event.y;\n",
    "    }\n",
    "\n",
    "    function dragended(d) {\n",
    "        if (!d3.event.active) simulation.alphaTarget(0);\n",
    "        d.fx = null;\n",
    "        d.fy = null;\n",
    "    }\n",
    "};\n",
    "drawKarateClub();\n",
    "''')"
   ]
  },
  {
   "cell_type": "code",
   "execution_count": null,
   "metadata": {},
   "outputs": [],
   "source": [
    "html_template = Template('''\n",
    "<style> $css_text </style>\n",
    "<div id=\"graph-div\">\n",
    "    <h5>$title</h5>\n",
    "    <svg width=\"800\" height=\"300\"></svg>                \n",
    "</div>\n",
    "<script>\n",
    "    $js_text\n",
    "</script>\n",
    "''')"
   ]
  },
  {
   "cell_type": "code",
   "execution_count": null,
   "metadata": {
    "scrolled": true
   },
   "outputs": [],
   "source": [
    "%load_ext py_d3"
   ]
  },
  {
   "cell_type": "code",
   "execution_count": null,
   "metadata": {},
   "outputs": [],
   "source": [
    "\n",
    "\n",
    "#with open('d3.min.js', 'r') as myfile:\n",
    "#  js_data = myfile.read()\n",
    "\n",
    "#d3 = 'console.log(\"ASDA\");' + js_data\n",
    "\n",
    "json_graph = json.dumps(json_network)\n",
    "json_graph = json_graph.replace(\"'\", r\"\\'\")\n",
    "js_text = js_template2.substitute({'python_data': json_graph, 'id': 'graph-div' })\n",
    "html = HTML(html_template.substitute({'title':'Zachary\\'s Karate Club','css_text': css_text, 'js_text': js_text}))\n",
    "display(html)"
   ]
  },
  {
   "cell_type": "markdown",
   "metadata": {},
   "source": [
    "## Generatory grafów"
   ]
  },
  {
   "cell_type": "markdown",
   "metadata": {},
   "source": [
    "### Klasyczne (proste) generatory"
   ]
  },
  {
   "cell_type": "code",
   "execution_count": null,
   "metadata": {},
   "outputs": [],
   "source": [
    "empty_graph = nx.empty_graph(20, create_using=nx.Graph)\n",
    "nx.draw(empty_graph)"
   ]
  },
  {
   "cell_type": "code",
   "execution_count": null,
   "metadata": {},
   "outputs": [],
   "source": [
    "null_graph = nx.null_graph(create_using=nx.DiGraph)\n",
    "print(nx.info(null_graph))"
   ]
  },
  {
   "cell_type": "code",
   "execution_count": null,
   "metadata": {},
   "outputs": [],
   "source": [
    "complete_graph = nx.complete_graph(15, create_using=nx.DiGraph)\n",
    "nx.draw(complete_graph)"
   ]
  },
  {
   "cell_type": "code",
   "execution_count": null,
   "metadata": {},
   "outputs": [],
   "source": [
    "cycle_graph= nx.cycle_graph(20)\n",
    "nx.draw(cycle_graph)"
   ]
  },
  {
   "cell_type": "code",
   "execution_count": null,
   "metadata": {},
   "outputs": [],
   "source": [
    "pos = nx.circular_layout(cycle_graph)\n",
    "nx.draw(cycle_graph, pos)"
   ]
  },
  {
   "cell_type": "code",
   "execution_count": null,
   "metadata": {},
   "outputs": [],
   "source": [
    "star_graph = nx.star_graph(10)\n",
    "degrees = nx.degree(star_graph)\n",
    "pos = nx.spring_layout(star_graph)\n",
    "nx.draw(star_graph, node_color='green', node_size=[degree*100 for (node, degree) in degrees])"
   ]
  },
  {
   "cell_type": "code",
   "execution_count": null,
   "metadata": {},
   "outputs": [],
   "source": [
    "star_link_data = nx.node_link_data(star_graph)\n",
    "json_graph = json.dumps(star_link_data)\n",
    "json_graph = json_graph.replace(\"'\", r\"\\'\")\n",
    "js_text = js_template2.substitute({'python_data': json_graph, 'id': 'graph-div' })\n",
    "html = HTML(html_template.substitute({'title': 'Star graph', 'css_text': css_text, 'js_text': js_text}))\n",
    "display(html)"
   ]
  },
  {
   "cell_type": "code",
   "execution_count": null,
   "metadata": {},
   "outputs": [],
   "source": [
    "grid_graph = nx.grid_graph(dim=[5, 10])\n",
    "pos = nx.spectral_layout(grid_graph)\n",
    "nx.draw(grid_graph, pos, node_color=range(50), node_size=800, cmap=plt.cm.Purples)"
   ]
  },
  {
   "cell_type": "code",
   "execution_count": null,
   "metadata": {},
   "outputs": [],
   "source": [
    "cubical_graph = nx.cubical_graph()\n",
    "nx.draw(cubical_graph, node_color=\"orange\")"
   ]
  },
  {
   "cell_type": "code",
   "execution_count": null,
   "metadata": {},
   "outputs": [],
   "source": [
    "diamond_graph = nx.diamond_graph()\n",
    "nx.draw(diamond_graph, node_size=1200)"
   ]
  },
  {
   "cell_type": "markdown",
   "metadata": {},
   "source": [
    "### Random graphs"
   ]
  },
  {
   "cell_type": "markdown",
   "metadata": {},
   "source": [
    "#### Newman–Watts–Strogatz small-world graph"
   ]
  },
  {
   "cell_type": "code",
   "execution_count": null,
   "metadata": {},
   "outputs": [],
   "source": [
    "nws_graph = nx.newman_watts_strogatz_graph(n=10, k=2, p=0.5, seed=2)\n",
    "nx.draw(nws_graph, node_color=\"pink\")"
   ]
  },
  {
   "cell_type": "markdown",
   "metadata": {},
   "source": [
    "#### Barabási–Albert preferential attachment model graph"
   ]
  },
  {
   "cell_type": "code",
   "execution_count": null,
   "metadata": {
    "scrolled": true
   },
   "outputs": [],
   "source": [
    "barabasi_graph = nx.barabasi_albert_graph(n=20, m=7, seed=2)\n",
    "pos = nx.spring_layout(barabasi_graph)\n",
    "\n",
    "plt.figure(figsize=(30, 30))\n",
    "\n",
    "nodes = nx.draw_networkx_nodes(barabasi_graph, pos, node_color=\"yellow\", node_size=1000)\n",
    "nodes.set_edgecolor('r')\n",
    "\n",
    "nx.draw_networkx_edges(barabasi_graph, pos, edge_color=\"purple\")\n",
    "\n",
    "degree=nx.degree(barabasi_graph)\n",
    "nx.draw_networkx_labels(barabasi_graph, labels=dict(degree), pos=pos)\n",
    "plt.show()"
   ]
  },
  {
   "cell_type": "code",
   "execution_count": null,
   "metadata": {},
   "outputs": [],
   "source": []
  },
  {
   "cell_type": "code",
   "execution_count": null,
   "metadata": {},
   "outputs": [],
   "source": [
    "\n",
    "\n"
   ]
  }
 ],
 "metadata": {
  "colab": {
   "collapsed_sections": [],
   "include_colab_link": true,
   "name": "NetworkX Live",
   "provenance": [],
   "toc_visible": true,
   "version": "0.3.2"
  },
  "kernelspec": {
   "display_name": "Python 3",
   "language": "python",
   "name": "python3"
  },
  "language_info": {
   "codemirror_mode": {
    "name": "ipython",
    "version": 3
   },
   "file_extension": ".py",
   "mimetype": "text/x-python",
   "name": "python",
   "nbconvert_exporter": "python",
   "pygments_lexer": "ipython3",
   "version": "3.7.2"
  }
 },
 "nbformat": 4,
 "nbformat_minor": 1
}
